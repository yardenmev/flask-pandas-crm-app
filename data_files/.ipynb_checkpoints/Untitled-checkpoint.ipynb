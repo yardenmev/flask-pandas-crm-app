{
 "cells": [
  {
   "cell_type": "code",
   "execution_count": 2,
   "id": "cb37dbd5",
   "metadata": {},
   "outputs": [],
   "source": [
    "import pandas as pd"
   ]
  },
  {
   "cell_type": "code",
   "execution_count": 5,
   "id": "e8f8cb73",
   "metadata": {},
   "outputs": [],
   "source": [
    "dataframe1 = pd.read_csv(\"./credits_data.csv\")"
   ]
  },
  {
   "cell_type": "code",
   "execution_count": 9,
   "id": "425797b0",
   "metadata": {},
   "outputs": [],
   "source": [
    "dataframe2 = pd.read_csv(\"./platform_users_data.csv\")"
   ]
  },
  {
   "cell_type": "code",
   "execution_count": 10,
   "id": "3a8172ce",
   "metadata": {},
   "outputs": [],
   "source": [
    "dataframe3 = pd.read_csv(\"./services_data.csv\")"
   ]
  },
  {
   "cell_type": "code",
   "execution_count": 11,
   "id": "f3126272",
   "metadata": {},
   "outputs": [
    {
     "name": "stdout",
     "output_type": "stream",
     "text": [
      "   platform_name used_by service_type         website web_username  \\\n",
      "0           dizi    mark          VPN  expressvpn.com        shay    \n",
      "1          glass     dan          VPS  expressvpn.com        shay    \n",
      "2          testt       1            1               1            1   \n",
      "3          testt       2            2               2            2   \n",
      "4          testt     NaN          NaN             NaN          NaN   \n",
      "5     eeeeevveve       5            5               5            5   \n",
      "6             ee   cscsc          NaN             NaN          NaN   \n",
      "7             ee      aa          NaN             NaN          NaN   \n",
      "8             ee       c          NaN             NaN          NaN   \n",
      "9             ee    cscs          NaN             NaN          NaN   \n",
      "10             s  roslan          VPS             NaN          NaN   \n",
      "11    eeeeevveve    shay          VPS             NaN          NaN   \n",
      "12            ee    mike          SSL             NaN          NaN   \n",
      "13            ee   tunir          rdp             NaN          NaN   \n",
      "14         testt    shon          vpm             NaN          NaN   \n",
      "15            ee    dima          vps             NaN          NaN   \n",
      "\n",
      "   web_password           email email_password   ip  ip_username  ip_password  \\\n",
      "0      Shai@vpn  shay@proton.me      Shai@emil  NaN          NaN          NaN   \n",
      "1      Shai@vpn  shay@proton.me      Shai@emil  NaN          NaN          NaN   \n",
      "2             1               1              1  1.0          1.0          1.0   \n",
      "3             2               g              g  2.0          2.0          2.0   \n",
      "4           NaN             NaN            NaN  NaN          NaN          NaN   \n",
      "5             5              55              5  5.0          5.0          5.0   \n",
      "6           NaN             NaN            NaN  NaN          NaN          NaN   \n",
      "7           NaN             NaN            NaN  NaN          NaN          NaN   \n",
      "8           NaN             NaN            NaN  NaN          NaN          NaN   \n",
      "9           NaN             NaN            NaN  NaN          NaN          NaN   \n",
      "10          NaN             NaN            NaN  NaN          NaN          NaN   \n",
      "11          NaN             NaN            NaN  NaN          NaN          NaN   \n",
      "12          NaN             NaN            NaN  NaN          NaN          NaN   \n",
      "13          NaN             NaN            NaN  NaN          NaN          NaN   \n",
      "14          NaN             NaN            NaN  NaN          NaN          NaN   \n",
      "15          NaN             NaN            NaN  NaN          NaN          NaN   \n",
      "\n",
      "      date_exp doc_reff         phone  country  \\\n",
      "0   2023-11-15   194/89  9.725055e+09      NaN   \n",
      "1   2023-11-16   194/89  9.725055e+09      NaN   \n",
      "2   0001-11-11        1  1.000000e+00      1.0   \n",
      "3   0002-02-02        2  2.000000e+00      2.0   \n",
      "4          NaN      NaN           NaN      NaN   \n",
      "5   0005-07-07        5  5.000000e+00      5.0   \n",
      "6          NaN      NaN           NaN      NaN   \n",
      "7          NaN      NaN           NaN      NaN   \n",
      "8          NaN      NaN           NaN      NaN   \n",
      "9          NaN      NaN           NaN      NaN   \n",
      "10         NaN      NaN           NaN      NaN   \n",
      "11  2023-11-09      NaN           NaN      NaN   \n",
      "12  2023-11-10      NaN           NaN      NaN   \n",
      "13  2023-11-09      NaN           NaN      NaN   \n",
      "14  2023-11-07      NaN           NaN      NaN   \n",
      "15  2023-11-08      NaN           NaN      NaN   \n",
      "\n",
      "                                      etc   date_created  \\\n",
      "0   הותקן על השולחן הכחול מצד ימין למעלה      2023-11-01   \n",
      "1   הותקן על השולחן הכחול מצד ימין למעלה   2023sss-11-01   \n",
      "2                                       1     2023-11-03   \n",
      "3                                       2     2023-11-03   \n",
      "4                                     NaN     2023-11-03   \n",
      "5                                       5     2023-11-03   \n",
      "6                                     NaN     2023-11-06   \n",
      "7                                     NaN     2023-11-06   \n",
      "8                                     NaN     2023-11-06   \n",
      "9                                     NaN     2023-11-06   \n",
      "10                                    NaN     2023-11-07   \n",
      "11                                    NaN     2023-11-07   \n",
      "12                                    NaN     2023-11-07   \n",
      "13                                    NaN     2023-11-07   \n",
      "14                                    NaN     2023-11-07   \n",
      "15                                    NaN     2023-11-07   \n",
      "\n",
      "                                          id  emailemail_password  \\\n",
      "0   e5a77cd3-1a95-4758ssss-9059-fa372aeebf93                  NaN   \n",
      "1       e5a77cd3-1a95-4758-9059-fa372aeebf93                  NaN   \n",
      "2       5c90a43c-4587-46a6-9fdf-6408601af1d9                  NaN   \n",
      "3       ea946f25-6cf4-44bc-99cb-9b90b2c73328                  NaN   \n",
      "4       3ce21367-269a-404b-8c15-6fff56e0ac36                  NaN   \n",
      "5       a59f6620-d201-420f-8f84-4c46ec5071c5                  NaN   \n",
      "6       37ca9758-6ec3-432e-ba92-600fe9638c38                  NaN   \n",
      "7       e3c13fbd-0230-48a2-9d7c-a1fabfae4d20                  NaN   \n",
      "8       0ccdba00-bdcc-4d74-812d-0edae0042ec7                  NaN   \n",
      "9       c4bc9877-4a4d-492c-841f-68c88b92fdd5                  NaN   \n",
      "10      d1ccb875-8124-44c1-b659-a306650fa81c                  NaN   \n",
      "11      77eaed81-2ff9-4661-a1d0-4c6732ce5104                  NaN   \n",
      "12      ccb1e893-82fb-4c0e-a3f9-bf1a030c09c5                  NaN   \n",
      "13      606e107c-108f-492e-8626-3302470f2a84                  NaN   \n",
      "14      16249322-a125-4442-9101-2a96beeeab4d                  NaN   \n",
      "15      1025baa1-e105-4ba0-8782-a8692e2ed70d                  NaN   \n",
      "\n",
      "    email1email_password1  \n",
      "0                     NaN  \n",
      "1                     NaN  \n",
      "2                     NaN  \n",
      "3                     NaN  \n",
      "4                     NaN  \n",
      "5                     NaN  \n",
      "6                     NaN  \n",
      "7                     NaN  \n",
      "8                     NaN  \n",
      "9                     NaN  \n",
      "10                    NaN  \n",
      "11                    NaN  \n",
      "12                    NaN  \n",
      "13                    NaN  \n",
      "14                    NaN  \n",
      "15                    NaN  \n"
     ]
    }
   ],
   "source": []
  },
  {
   "cell_type": "code",
   "execution_count": 52,
   "id": "b95ec980",
   "metadata": {},
   "outputs": [],
   "source": [
    "dataframes = [dataframe1, dataframe2, dataframe3]\n"
   ]
  },
  {
   "cell_type": "code",
   "execution_count": 26,
   "id": "bb6ee6fd",
   "metadata": {},
   "outputs": [],
   "source": [
    "search_results = []"
   ]
  },
  {
   "cell_type": "code",
   "execution_count": 50,
   "id": "63608cef",
   "metadata": {},
   "outputs": [],
   "source": [
    " for df in dataframes:\n",
    "    results = df[df['platform_name'].str.contains('dizi', case=False, na=False)]"
   ]
  },
  {
   "cell_type": "code",
   "execution_count": 51,
   "id": "8d01beac",
   "metadata": {},
   "outputs": [
    {
     "ename": "AttributeError",
     "evalue": "'DataFrame' object has no attribute 'extend'",
     "output_type": "error",
     "traceback": [
      "\u001b[1;31m---------------------------------------------------------------------------\u001b[0m",
      "\u001b[1;31mAttributeError\u001b[0m                            Traceback (most recent call last)",
      "\u001b[1;32m~\\AppData\\Local\\Temp\\ipykernel_35880\\1771646474.py\u001b[0m in \u001b[0;36m?\u001b[1;34m()\u001b[0m\n\u001b[1;32m----> 1\u001b[1;33m \u001b[0msearch_results\u001b[0m\u001b[1;33m.\u001b[0m\u001b[0mextend\u001b[0m\u001b[1;33m(\u001b[0m\u001b[0mresults\u001b[0m\u001b[1;33m.\u001b[0m\u001b[0mto_dict\u001b[0m\u001b[1;33m(\u001b[0m\u001b[1;34m'records'\u001b[0m\u001b[1;33m)\u001b[0m\u001b[1;33m)\u001b[0m\u001b[1;33m\u001b[0m\u001b[1;33m\u001b[0m\u001b[0m\n\u001b[0m",
      "\u001b[1;32m~\\anaconda3\\Lib\\site-packages\\pandas\\core\\generic.py\u001b[0m in \u001b[0;36m?\u001b[1;34m(self, name)\u001b[0m\n\u001b[0;32m   5898\u001b[0m             \u001b[1;32mand\u001b[0m \u001b[0mname\u001b[0m \u001b[1;32mnot\u001b[0m \u001b[1;32min\u001b[0m \u001b[0mself\u001b[0m\u001b[1;33m.\u001b[0m\u001b[0m_accessors\u001b[0m\u001b[1;33m\u001b[0m\u001b[1;33m\u001b[0m\u001b[0m\n\u001b[0;32m   5899\u001b[0m             \u001b[1;32mand\u001b[0m \u001b[0mself\u001b[0m\u001b[1;33m.\u001b[0m\u001b[0m_info_axis\u001b[0m\u001b[1;33m.\u001b[0m\u001b[0m_can_hold_identifiers_and_holds_name\u001b[0m\u001b[1;33m(\u001b[0m\u001b[0mname\u001b[0m\u001b[1;33m)\u001b[0m\u001b[1;33m\u001b[0m\u001b[1;33m\u001b[0m\u001b[0m\n\u001b[0;32m   5900\u001b[0m         ):\n\u001b[0;32m   5901\u001b[0m             \u001b[1;32mreturn\u001b[0m \u001b[0mself\u001b[0m\u001b[1;33m[\u001b[0m\u001b[0mname\u001b[0m\u001b[1;33m]\u001b[0m\u001b[1;33m\u001b[0m\u001b[1;33m\u001b[0m\u001b[0m\n\u001b[1;32m-> 5902\u001b[1;33m         \u001b[1;32mreturn\u001b[0m \u001b[0mobject\u001b[0m\u001b[1;33m.\u001b[0m\u001b[0m__getattribute__\u001b[0m\u001b[1;33m(\u001b[0m\u001b[0mself\u001b[0m\u001b[1;33m,\u001b[0m \u001b[0mname\u001b[0m\u001b[1;33m)\u001b[0m\u001b[1;33m\u001b[0m\u001b[1;33m\u001b[0m\u001b[0m\n\u001b[0m",
      "\u001b[1;31mAttributeError\u001b[0m: 'DataFrame' object has no attribute 'extend'"
     ]
    }
   ],
   "source": [
    " search_results.extend(results.to_dict('records'))"
   ]
  },
  {
   "cell_type": "code",
   "execution_count": 55,
   "id": "33ec3c81",
   "metadata": {},
   "outputs": [
    {
     "name": "stdout",
     "output_type": "stream",
     "text": [
      "Index(['platform_name', 'used_by', 'service_type', 'website', 'web_username',\n",
      "       'web_password', 'email', 'email_password', 'ip', 'ip_username',\n",
      "       'ip_password', 'date_exp', 'doc_reff', 'phone', 'country', 'etc',\n",
      "       'date_created', 'id', 'emailemail_password', 'email1email_password1'],\n",
      "      dtype='object')\n"
     ]
    }
   ],
   "source": [
    "print(dataframe1.columns)"
   ]
  },
  {
   "cell_type": "code",
   "execution_count": 46,
   "id": "6d1b3848",
   "metadata": {},
   "outputs": [],
   "source": [
    "search_results = pd.DataFrame()"
   ]
  },
  {
   "cell_type": "code",
   "execution_count": 56,
   "id": "abae7d98",
   "metadata": {},
   "outputs": [
    {
     "ename": "NameError",
     "evalue": "name 'dataframe' is not defined",
     "output_type": "error",
     "traceback": [
      "\u001b[1;31m---------------------------------------------------------------------------\u001b[0m",
      "\u001b[1;31mNameError\u001b[0m                                 Traceback (most recent call last)",
      "Cell \u001b[1;32mIn[56], line 2\u001b[0m\n\u001b[0;32m      1\u001b[0m \u001b[38;5;28;01mfor\u001b[39;00m column \u001b[38;5;129;01min\u001b[39;00m dataframe1\u001b[38;5;241m.\u001b[39mcolumns:\n\u001b[1;32m----> 2\u001b[0m     mask \u001b[38;5;241m=\u001b[39m \u001b[43mdataframe\u001b[49m[column]\u001b[38;5;241m.\u001b[39mstr\u001b[38;5;241m.\u001b[39mcontains(vpn, case\u001b[38;5;241m=\u001b[39m\u001b[38;5;28;01mFalse\u001b[39;00m, na\u001b[38;5;241m=\u001b[39m\u001b[38;5;28;01mFalse\u001b[39;00m)\n",
      "\u001b[1;31mNameError\u001b[0m: name 'dataframe' is not defined"
     ]
    }
   ],
   "source": [
    "for column in dataframe1.columns:\n",
    "    mask = dataframe1[column].str.contains(vpn, case=False, na=False)"
   ]
  },
  {
   "cell_type": "code",
   "execution_count": 41,
   "id": "5549c499",
   "metadata": {},
   "outputs": [
    {
     "ename": "TypeError",
     "evalue": "the first argument must be callable",
     "output_type": "error",
     "traceback": [
      "\u001b[1;31m---------------------------------------------------------------------------\u001b[0m",
      "\u001b[1;31mTypeError\u001b[0m                                 Traceback (most recent call last)",
      "\u001b[1;32m~\\AppData\\Local\\Temp\\ipykernel_35880\\3834164453.py\u001b[0m in \u001b[0;36m?\u001b[1;34m()\u001b[0m\n\u001b[1;32m----> 1\u001b[1;33m \u001b[0mresults\u001b[0m \u001b[1;33m=\u001b[0m \u001b[0mcombined_dataframe\u001b[0m\u001b[1;33m.\u001b[0m\u001b[0mapplymap\u001b[0m\u001b[1;33m(\u001b[0m\u001b[1;34m'VPN'\u001b[0m\u001b[1;33m)\u001b[0m\u001b[1;33m\u001b[0m\u001b[1;33m\u001b[0m\u001b[0m\n\u001b[0m",
      "\u001b[1;32m~\\anaconda3\\Lib\\site-packages\\pandas\\core\\frame.py\u001b[0m in \u001b[0;36m?\u001b[1;34m(self, func, na_action, **kwargs)\u001b[0m\n\u001b[0;32m   9641\u001b[0m             raise ValueError(\n\u001b[0;32m   9642\u001b[0m                 \u001b[1;34mf\"na_action must be 'ignore' or None. Got {repr(na_action)}\"\u001b[0m\u001b[1;33m\u001b[0m\u001b[1;33m\u001b[0m\u001b[0m\n\u001b[0;32m   9643\u001b[0m             )\n\u001b[0;32m   9644\u001b[0m         \u001b[0mignore_na\u001b[0m \u001b[1;33m=\u001b[0m \u001b[0mna_action\u001b[0m \u001b[1;33m==\u001b[0m \u001b[1;34m\"ignore\"\u001b[0m\u001b[1;33m\u001b[0m\u001b[1;33m\u001b[0m\u001b[0m\n\u001b[1;32m-> 9645\u001b[1;33m         \u001b[0mfunc\u001b[0m \u001b[1;33m=\u001b[0m \u001b[0mfunctools\u001b[0m\u001b[1;33m.\u001b[0m\u001b[0mpartial\u001b[0m\u001b[1;33m(\u001b[0m\u001b[0mfunc\u001b[0m\u001b[1;33m,\u001b[0m \u001b[1;33m**\u001b[0m\u001b[0mkwargs\u001b[0m\u001b[1;33m)\u001b[0m\u001b[1;33m\u001b[0m\u001b[1;33m\u001b[0m\u001b[0m\n\u001b[0m\u001b[0;32m   9646\u001b[0m \u001b[1;33m\u001b[0m\u001b[0m\n\u001b[0;32m   9647\u001b[0m         \u001b[1;31m# if we have a dtype == 'M8[ns]', provide boxed values\u001b[0m\u001b[1;33m\u001b[0m\u001b[1;33m\u001b[0m\u001b[0m\n\u001b[0;32m   9648\u001b[0m         \u001b[1;32mdef\u001b[0m \u001b[0minfer\u001b[0m\u001b[1;33m(\u001b[0m\u001b[0mx\u001b[0m\u001b[1;33m)\u001b[0m\u001b[1;33m:\u001b[0m\u001b[1;33m\u001b[0m\u001b[1;33m\u001b[0m\u001b[0m\n",
      "\u001b[1;31mTypeError\u001b[0m: the first argument must be callable"
     ]
    }
   ],
   "source": [
    "results = combined_dataframe.applymap('VPN')"
   ]
  },
  {
   "cell_type": "code",
   "execution_count": null,
   "id": "6726be25",
   "metadata": {},
   "outputs": [],
   "source": [
    "results = combined_dataframe.applymap(search_in_cell)"
   ]
  }
 ],
 "metadata": {
  "kernelspec": {
   "display_name": "Python 3 (ipykernel)",
   "language": "python",
   "name": "python3"
  },
  "language_info": {
   "codemirror_mode": {
    "name": "ipython",
    "version": 3
   },
   "file_extension": ".py",
   "mimetype": "text/x-python",
   "name": "python",
   "nbconvert_exporter": "python",
   "pygments_lexer": "ipython3",
   "version": "3.11.4"
  }
 },
 "nbformat": 4,
 "nbformat_minor": 5
}
